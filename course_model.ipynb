{
 "cells": [
  {
   "cell_type": "code",
   "execution_count": 1,
   "id": "fc11a66a",
   "metadata": {},
   "outputs": [],
   "source": [
    "import pandas as  pd\n",
    "import numpy as np\n",
    "import matplotlib.pyplot as plt"
   ]
  },
  {
   "cell_type": "code",
   "execution_count": 2,
   "id": "a3179a90",
   "metadata": {},
   "outputs": [
    {
     "data": {
      "text/html": [
       "<div>\n",
       "<style scoped>\n",
       "    .dataframe tbody tr th:only-of-type {\n",
       "        vertical-align: middle;\n",
       "    }\n",
       "\n",
       "    .dataframe tbody tr th {\n",
       "        vertical-align: top;\n",
       "    }\n",
       "\n",
       "    .dataframe thead th {\n",
       "        text-align: right;\n",
       "    }\n",
       "</style>\n",
       "<table border=\"1\" class=\"dataframe\">\n",
       "  <thead>\n",
       "    <tr style=\"text-align: right;\">\n",
       "      <th></th>\n",
       "      <th>Unnamed: 0.1</th>\n",
       "      <th>Unnamed: 0</th>\n",
       "      <th>title</th>\n",
       "      <th>enrolled</th>\n",
       "      <th>rating</th>\n",
       "      <th>Instructor</th>\n",
       "      <th>Organization</th>\n",
       "      <th>Description</th>\n",
       "      <th>Modules/Courses</th>\n",
       "      <th>Level</th>\n",
       "      <th>URL</th>\n",
       "    </tr>\n",
       "  </thead>\n",
       "  <tbody>\n",
       "    <tr>\n",
       "      <th>0</th>\n",
       "      <td>0</td>\n",
       "      <td>0</td>\n",
       "      <td>Analytical Solutions to Common Healthcare Prob...</td>\n",
       "      <td>5,710</td>\n",
       "      <td>4.6</td>\n",
       "      <td>Brian Paciotti</td>\n",
       "      <td>University of California, Davis</td>\n",
       "      <td>In this course, we’re going to go over analyti...</td>\n",
       "      <td>4 modules</td>\n",
       "      <td>Intermediate level</td>\n",
       "      <td>https://www.coursera.org/learn/analytical-solu...</td>\n",
       "    </tr>\n",
       "    <tr>\n",
       "      <th>1</th>\n",
       "      <td>1</td>\n",
       "      <td>1</td>\n",
       "      <td>Understanding Einstein: The Special Theory of ...</td>\n",
       "      <td>170,608</td>\n",
       "      <td>4.9</td>\n",
       "      <td>Larry Randles Lagerstrom</td>\n",
       "      <td>Stanford University</td>\n",
       "      <td>In this course we will seek to “understand Ein...</td>\n",
       "      <td>8 modules</td>\n",
       "      <td>Beginner level</td>\n",
       "      <td>https://www.coursera.org/learn/einstein-relati...</td>\n",
       "    </tr>\n",
       "  </tbody>\n",
       "</table>\n",
       "</div>"
      ],
      "text/plain": [
       "   Unnamed: 0.1  Unnamed: 0  \\\n",
       "0             0           0   \n",
       "1             1           1   \n",
       "\n",
       "                                               title enrolled rating  \\\n",
       "0  Analytical Solutions to Common Healthcare Prob...    5,710    4.6   \n",
       "1  Understanding Einstein: The Special Theory of ...  170,608    4.9   \n",
       "\n",
       "                 Instructor                     Organization  \\\n",
       "0            Brian Paciotti  University of California, Davis   \n",
       "1  Larry Randles Lagerstrom              Stanford University   \n",
       "\n",
       "                                         Description Modules/Courses  \\\n",
       "0  In this course, we’re going to go over analyti...       4 modules   \n",
       "1  In this course we will seek to “understand Ein...       8 modules   \n",
       "\n",
       "                Level                                                URL  \n",
       "0  Intermediate level  https://www.coursera.org/learn/analytical-solu...  \n",
       "1      Beginner level  https://www.coursera.org/learn/einstein-relati...  "
      ]
     },
     "execution_count": 2,
     "metadata": {},
     "output_type": "execute_result"
    }
   ],
   "source": [
    "data_path = 'processed_courses.csv'\n",
    "data = pd.read_csv(data_path)\n",
    "data.head(2)"
   ]
  },
  {
   "cell_type": "code",
   "execution_count": 46,
   "id": "1c2736e3",
   "metadata": {},
   "outputs": [
    {
     "data": {
      "text/plain": [
       "Unnamed: 0.1       0\n",
       "Unnamed: 0         0\n",
       "title              0\n",
       "enrolled           0\n",
       "rating             0\n",
       "Instructor         0\n",
       "Organization       0\n",
       "Description        0\n",
       "Modules/Courses    0\n",
       "Level              0\n",
       "URL                0\n",
       "dtype: int64"
      ]
     },
     "execution_count": 46,
     "metadata": {},
     "output_type": "execute_result"
    }
   ],
   "source": [
    "data.isnull().sum()"
   ]
  },
  {
   "cell_type": "code",
   "execution_count": 3,
   "id": "1f52141f",
   "metadata": {},
   "outputs": [],
   "source": [
    "df = data['title']\n",
    "df = np.array(df)"
   ]
  },
  {
   "cell_type": "code",
   "execution_count": 4,
   "id": "beb66e63",
   "metadata": {},
   "outputs": [],
   "source": [
    "ddf = data['Description']\n",
    "ddf = np.array(ddf)"
   ]
  },
  {
   "cell_type": "code",
   "execution_count": 6,
   "id": "5712a89b",
   "metadata": {},
   "outputs": [
    {
     "data": {
      "text/plain": [
       "(5861,)"
      ]
     },
     "execution_count": 6,
     "metadata": {},
     "output_type": "execute_result"
    }
   ],
   "source": [
    "ddf.shape"
   ]
  },
  {
   "cell_type": "code",
   "execution_count": 7,
   "id": "a3cc9389",
   "metadata": {},
   "outputs": [
    {
     "name": "stderr",
     "output_type": "stream",
     "text": [
      "[nltk_data] Downloading package stopwords to\n",
      "[nltk_data]     C:\\Users\\Deepraj\\AppData\\Roaming\\nltk_data...\n",
      "[nltk_data]   Package stopwords is already up-to-date!\n",
      "[nltk_data] Downloading package punkt to\n",
      "[nltk_data]     C:\\Users\\Deepraj\\AppData\\Roaming\\nltk_data...\n",
      "[nltk_data]   Package punkt is already up-to-date!\n"
     ]
    },
    {
     "data": {
      "text/plain": [
       "True"
      ]
     },
     "execution_count": 7,
     "metadata": {},
     "output_type": "execute_result"
    }
   ],
   "source": [
    "import nltk\n",
    "nltk.download('stopwords')\n",
    "nltk.download('punkt')"
   ]
  },
  {
   "cell_type": "code",
   "execution_count": 8,
   "id": "5af6fbb8",
   "metadata": {},
   "outputs": [],
   "source": [
    "from nltk.corpus import stopwords\n",
    "stop = stopwords.words('english')\n",
    "from nltk.tokenize import word_tokenize\n",
    "from nltk.stem.wordnet import WordNetLemmatizer\n",
    "lematizer = WordNetLemmatizer()"
   ]
  },
  {
   "cell_type": "code",
   "execution_count": 9,
   "id": "4f7f5c92",
   "metadata": {},
   "outputs": [],
   "source": [
    "corpus = []\n",
    "for sent in df:\n",
    "    sentance = sent.lower()\n",
    "    lemmas = [lematizer.lemmatize(word) for word  in word_tokenize(sentance) if word.isalpha() and word not in stop]\n",
    "    filtered = ' '.join(lemmas)\n",
    "    corpus.append(filtered)"
   ]
  },
  {
   "cell_type": "code",
   "execution_count": 10,
   "id": "319ccaf4",
   "metadata": {},
   "outputs": [],
   "source": [
    "desc = []\n",
    "for sent in ddf:\n",
    "    sentance = sent.lower()\n",
    "    lemmas = [lematizer.lemmatize(word) for word  in word_tokenize(sentance) if word.isalpha() and word not in stop]\n",
    "    filtered = ' '.join(lemmas)\n",
    "    desc.append(filtered)"
   ]
  },
  {
   "cell_type": "code",
   "execution_count": 11,
   "id": "f160a406",
   "metadata": {},
   "outputs": [],
   "source": [
    "from sklearn.feature_extraction.text import TfidfVectorizer\n",
    "from sklearn.feature_extraction.text import CountVectorizer"
   ]
  },
  {
   "cell_type": "code",
   "execution_count": 12,
   "id": "997c22c5",
   "metadata": {},
   "outputs": [],
   "source": [
    "bow = CountVectorizer(ngram_range=(1,2))\n",
    "corpus_bow = bow.fit_transform(corpus)"
   ]
  },
  {
   "cell_type": "code",
   "execution_count": 13,
   "id": "89d0fa07",
   "metadata": {},
   "outputs": [],
   "source": [
    "tfidf = TfidfVectorizer(ngram_range=(1,2))\n",
    "corpus_tfidf = tfidf.fit_transform(corpus)"
   ]
  },
  {
   "cell_type": "code",
   "execution_count": 14,
   "id": "90641c98",
   "metadata": {},
   "outputs": [],
   "source": [
    "desc_tfidf = TfidfVectorizer(ngram_range=(1,2))\n",
    "desc_vec = desc_tfidf.fit_transform(desc)"
   ]
  },
  {
   "cell_type": "code",
   "execution_count": 15,
   "id": "6ae8646e",
   "metadata": {},
   "outputs": [],
   "source": [
    "from sklearn.metrics.pairwise import cosine_similarity"
   ]
  },
  {
   "cell_type": "code",
   "execution_count": 17,
   "id": "899fa251",
   "metadata": {},
   "outputs": [],
   "source": [
    "def vectorize(title):\n",
    "    return  desc_tfidf.transform([title])"
   ]
  },
  {
   "cell_type": "code",
   "execution_count": 18,
   "id": "4144f121",
   "metadata": {},
   "outputs": [],
   "source": [
    "def get_courses(titles):\n",
    "    courses = []\n",
    "    for title in titles:\n",
    "        title_tfidf = vectorize(title)\n",
    "        similar = cosine_similarity(corpus_tfidf,title_tfidf).flatten()\n",
    "        top5 = similar.argsort()[::-1][:10]\n",
    "        courses.append(top5)\n",
    "        return courses    "
   ]
  },
  {
   "cell_type": "code",
   "execution_count": 28,
   "id": "91191809",
   "metadata": {},
   "outputs": [],
   "source": [
    "def get_courses_by_desc(titles):\n",
    "    titles = ','.join(titles)\n",
    "    courses_by_dec = []\n",
    "    for title in titles:\n",
    "        title_tfidf = vectorize(title)\n",
    "        similar = cosine_similarity(desc_vec,title_tfidf).flatten()\n",
    "        top5 = similar.argsort()[::-1][:5]\n",
    "        courses_by_dec.append(top5)\n",
    "        return courses_by_dec\n",
    "    "
   ]
  },
  {
   "cell_type": "code",
   "execution_count": 29,
   "id": "b73cd104",
   "metadata": {},
   "outputs": [
    {
     "data": {
      "text/plain": [
       "[array([5860, 1945, 1947, 1948, 1949], dtype=int64)]"
      ]
     },
     "execution_count": 29,
     "metadata": {},
     "output_type": "execute_result"
    }
   ],
   "source": [
    "get_courses_by_desc(['Data Science'])"
   ]
  },
  {
   "cell_type": "code",
   "execution_count": 31,
   "id": "6d66b572",
   "metadata": {},
   "outputs": [],
   "source": [
    "from utils import save_file\n",
    "import os\n",
    "path = os.path.join('Artifacts', 'vec.pkl')\n",
    "save_file(file_path=path,obj=desc_tfidf)"
   ]
  },
  {
   "cell_type": "code",
   "execution_count": 32,
   "id": "56a90a1a",
   "metadata": {},
   "outputs": [
    {
     "data": {
      "text/plain": [
       "<bound method Series.to_dict of Unnamed: 0.1                                                    4378\n",
       "Unnamed: 0                                                      4378\n",
       "title                                          What is Data Science?\n",
       "enrolled                                                   1,057,144\n",
       "rating                                                           4.7\n",
       "Instructor                                                 Rav Ahuja\n",
       "Organization                                                     IBM\n",
       "Description        Do you want to know why data science has been ...\n",
       "Modules/Courses                                            4 modules\n",
       "Level                                                 Beginner level\n",
       "URL                https://www.coursera.org/learn/what-is-datasci...\n",
       "Name: 3869, dtype: object>"
      ]
     },
     "execution_count": 32,
     "metadata": {},
     "output_type": "execute_result"
    }
   ],
   "source": [
    "d = data\n",
    "d.iloc[3869,:].to_dict"
   ]
  },
  {
   "cell_type": "code",
   "execution_count": 47,
   "id": "e3935374",
   "metadata": {},
   "outputs": [],
   "source": [
    "skill = ['hibernate', 'junit', 'maven', 'rest apis', 'spring boot']\n",
    "m = tfidf.transform(skill)\n",
    "course = get_courses_by_desc(skill)"
   ]
  },
  {
   "cell_type": "code",
   "execution_count": 48,
   "id": "a20fa3ea",
   "metadata": {},
   "outputs": [
    {
     "data": {
      "text/plain": [
       "[array([5860, 1945, 1947, 1948, 1949], dtype=int64)]"
      ]
     },
     "execution_count": 48,
     "metadata": {},
     "output_type": "execute_result"
    }
   ],
   "source": [
    "course"
   ]
  },
  {
   "cell_type": "code",
   "execution_count": 61,
   "id": "5ed31b9f",
   "metadata": {},
   "outputs": [],
   "source": [
    "a = []\n",
    "x = d.iloc[5860,:].to_dict()\n",
    "y = d.iloc[1945,:].to_dict()\n",
    "\n",
    "a.append(y)"
   ]
  },
  {
   "cell_type": "code",
   "execution_count": 62,
   "id": "a1595517",
   "metadata": {},
   "outputs": [
    {
     "data": {
      "text/plain": [
       "[{'Unnamed: 0.1': 2213,\n",
       "  'Unnamed: 0': 2213,\n",
       "  'title': 'Machine Learning in Healthcare: Fundamentals & Applications',\n",
       "  'enrolled': 'Enrollment number not found',\n",
       "  'rating': 'Rating not found',\n",
       "  'Instructor': 'Sonya Makhni',\n",
       "  'Organization': 'Northeastern University',\n",
       "  'Description': 'Examines data mining perspectives and methods in a healthcare context. Introduces the theoretical foundations for major data mining methods and studies how to select and use the appropriate data mining method and the major advantages for each. Students are exposed to contemporary data mining software applications and basic programming skills. Focuses on solving real-world problems, which require data cleaning, data transformation, and data modeling. In this module, we’ll start demystifying the terminology. We’ll begin by exploring the differences between AI, machine learning and deep learning. You’ll also gain hands-on experience in planning your own AI algorithm development, and learn what goes into preparing and constructing datasets for research questions. 8 videos7 readings5 assignments1 peer review2 discussion prompts In this module, we’ll take a deep dive into several sophisticated AI modeling techniques, including random forest modeling, gradient boosting, clustering and neural networks. 6 videos8 readings7 assignments2 discussion prompts In this module, you’ll dive deeper into the nitty gritty of how AI algorithms are trained and validated, and examine how they compare to clinicians in the field. 6 videos5 readings7 assignments2 discussion prompts In this module, we’ll explore why so many potentially useful algorithms are not being implemented by healthcare providers. That critique will explore the black box dilemma, and the challenges involved in developing accurate and equitable data sets. That means examining the many ways in which algorithms can discriminate against various marginalized segments of the population. 7 videos6 readings4 assignments2 discussion prompts',\n",
       "  'Modules/Courses': '4 modules',\n",
       "  'Level': 'Beginner level',\n",
       "  'URL': 'https://www.coursera.org/learn/machine-learning-in-healthcare-fundamentals-and-applications'}]"
      ]
     },
     "execution_count": 62,
     "metadata": {},
     "output_type": "execute_result"
    }
   ],
   "source": [
    "a"
   ]
  },
  {
   "cell_type": "code",
   "execution_count": null,
   "id": "17db86ab",
   "metadata": {},
   "outputs": [],
   "source": []
  }
 ],
 "metadata": {
  "kernelspec": {
   "display_name": "Python 3",
   "language": "python",
   "name": "python3"
  },
  "language_info": {
   "codemirror_mode": {
    "name": "ipython",
    "version": 3
   },
   "file_extension": ".py",
   "mimetype": "text/x-python",
   "name": "python",
   "nbconvert_exporter": "python",
   "pygments_lexer": "ipython3",
   "version": "3.10.18"
  }
 },
 "nbformat": 4,
 "nbformat_minor": 5
}
